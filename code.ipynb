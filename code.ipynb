{
 "cells": [
  {
   "cell_type": "code",
   "execution_count": 1,
   "metadata": {},
   "outputs": [],
   "source": [
    "import pandas as pd"
   ]
  },
  {
   "cell_type": "code",
   "execution_count": 27,
   "metadata": {},
   "outputs": [
    {
     "name": "stdout",
     "output_type": "stream",
     "text": [
      "Number of Rows: 27820 & Numbers of Columns: 12\n",
      "The Labels of the columns are: \n",
      "country\n",
      "year\n",
      "sex\n",
      "age\n",
      "suicides_no\n",
      "population\n",
      "suicides/100k pop\n",
      "country-year\n",
      "HDI for year\n",
      " gdp_for_year ($) \n",
      "gdp_per_capita ($)\n",
      "generation\n",
      "Dataset Additional Information: \n",
      "<class 'pandas.core.frame.DataFrame'>\n",
      "RangeIndex: 27820 entries, 0 to 27819\n",
      "Data columns (total 12 columns):\n",
      " #   Column              Non-Null Count  Dtype  \n",
      "---  ------              --------------  -----  \n",
      " 0   country             27820 non-null  object \n",
      " 1   year                27820 non-null  int64  \n",
      " 2   sex                 27820 non-null  object \n",
      " 3   age                 27820 non-null  object \n",
      " 4   suicides_no         27820 non-null  int64  \n",
      " 5   population          27820 non-null  int64  \n",
      " 6   suicides/100k pop   27820 non-null  float64\n",
      " 7   country-year        27820 non-null  object \n",
      " 8   HDI for year        8364 non-null   float64\n",
      " 9    gdp_for_year ($)   27820 non-null  object \n",
      " 10  gdp_per_capita ($)  27820 non-null  int64  \n",
      " 11  generation          27820 non-null  object \n",
      "dtypes: float64(2), int64(4), object(6)"
     ]
    }
   ],
   "source": [
    "raw_data = pd.read_csv('data/data.csv')\n",
    "\n",
    "print(f'Number of Rows: {raw_data.shape[0]} & Numbers of Columns: {raw_data.shape[1]}')\n",
    "\n",
    "print('The Labels of the columns are: ')\n",
    "for column_label in raw_data.columns:\n",
    "    print(column_label)\n",
    "\n",
    "print('Dataset Additional Information: ')\n",
    "raw_data.info(memory_usage=False)\n"
   ]
  },
  {
   "cell_type": "code",
   "execution_count": null,
   "metadata": {},
   "outputs": [],
   "source": []
  }
 ],
 "metadata": {
  "kernelspec": {
   "display_name": "Python 3.9.7 ('base')",
   "language": "python",
   "name": "python3"
  },
  "language_info": {
   "codemirror_mode": {
    "name": "ipython",
    "version": 3
   },
   "file_extension": ".py",
   "mimetype": "text/x-python",
   "name": "python",
   "nbconvert_exporter": "python",
   "pygments_lexer": "ipython3",
   "version": "3.9.7"
  },
  "orig_nbformat": 4,
  "vscode": {
   "interpreter": {
    "hash": "a17ceb440df06641873eb90ab198c956b8ad144129dc341bcbf2f3d1fc246efe"
   }
  }
 },
 "nbformat": 4,
 "nbformat_minor": 2
}
